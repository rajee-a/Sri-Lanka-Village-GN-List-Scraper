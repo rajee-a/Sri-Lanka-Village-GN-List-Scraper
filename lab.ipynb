{
 "cells": [
  {
   "cell_type": "code",
   "execution_count": 83,
   "metadata": {},
   "outputs": [],
   "source": [
    "import pandas as pd"
   ]
  },
  {
   "cell_type": "code",
   "execution_count": 84,
   "metadata": {},
   "outputs": [
    {
     "data": {
      "text/plain": [
       "LIFe Code                 object\n",
       "GN Code                    int64\n",
       "Name in Sinhala           object\n",
       "Name in Tamil             object\n",
       "Name in English           object\n",
       "MPA Code                  object\n",
       "Province                  object\n",
       "District                  object\n",
       "Divisional Secretariat    object\n",
       "dtype: object"
      ]
     },
     "execution_count": 84,
     "metadata": {},
     "output_type": "execute_result"
    }
   ],
   "source": [
    "df = pd.read_csv(\"./gn_list_north.csv\")\n",
    "df.dtypes"
   ]
  },
  {
   "cell_type": "code",
   "execution_count": 85,
   "metadata": {},
   "outputs": [],
   "source": [
    "# Clean data\n",
    "df['Province'] = df['Province'].apply(lambda x: x.split(':')[-1].strip())\n",
    "df['District'] = df['District'].apply(lambda x: x.split(':')[-1].strip())\n",
    "df['Divisional Secretariat'] = df['Divisional Secretariat'].apply(lambda x: x.split(':')[-1].strip())"
   ]
  },
  {
   "cell_type": "code",
   "execution_count": 86,
   "metadata": {},
   "outputs": [],
   "source": [
    "# Split LIFe Code into multiple columns to by delemeter\n",
    "df[[\"province_code\", \"district_code\", \"division_code\", \"gn_code\"]] = df[\"LIFe Code\"].str.split(\"-\", expand=True)\n",
    "df[[\"province_si\", \"province_ta\", \"province_en\"]] = df[\"Province\"].str.split(\"/ \", expand=True)\n",
    "df[[\"district_si\", \"district_ta\", \"district_en\"]] = df[\"District\"].str.split(\"/ \", expand=True)\n",
    "df[[\"division_si\", \"division_ta\", \"division_en\"]] = df[\"Divisional Secretariat\"].str.split(\"/ \", expand=True)"
   ]
  },
  {
   "cell_type": "code",
   "execution_count": 87,
   "metadata": {},
   "outputs": [],
   "source": [
    "# Delete unwanted columns\n",
    "df = df.drop(['Province', 'District', 'Divisional Secretariat', 'GN Code'], axis=1)\n",
    "\n",
    "# Rename columns\n",
    "df = df.rename(columns={\n",
    "    'Name in Sinhala' : 'gn_si',\n",
    "    'Name in Tamil' : 'gn_ta',\n",
    "    'Name in English' : 'gn_en',\n",
    "    'MPA Code' : 'mpa_code',\n",
    "    'LIFe Code' : 'life_code'\n",
    "    })"
   ]
  },
  {
   "cell_type": "code",
   "execution_count": 92,
   "metadata": {},
   "outputs": [],
   "source": [
    "df = df.reindex(columns=[\n",
    "    'life_code',\n",
    "    'gn_code',\n",
    "    'gn_en',\n",
    "    'gn_ta',\n",
    "    'gn_si',\n",
    "    'mpa_code',\n",
    "    'division_code',\n",
    "    'division_en',\n",
    "    'division_ta',\n",
    "    'division_si',\n",
    "    'district_code',\n",
    "    'district_en',\n",
    "    'district_ta',\n",
    "    'district_si',\n",
    "    'province_code',\n",
    "    'province_en',\n",
    "    'province_ta',\n",
    "    'province_si',\n",
    "])\n",
    "df.head()\n",
    "\n",
    "# df.dtypes"
   ]
  }
 ],
 "metadata": {
  "kernelspec": {
   "display_name": "Web_scraping-aX5DfIEI",
   "language": "python",
   "name": "python3"
  },
  "language_info": {
   "codemirror_mode": {
    "name": "ipython",
    "version": 3
   },
   "file_extension": ".py",
   "mimetype": "text/x-python",
   "name": "python",
   "nbconvert_exporter": "python",
   "pygments_lexer": "ipython3",
   "version": "3.11.0"
  },
  "orig_nbformat": 4
 },
 "nbformat": 4,
 "nbformat_minor": 2
}
